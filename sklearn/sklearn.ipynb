{
 "cells": [
  {
   "cell_type": "markdown",
   "id": "70ffd150",
   "metadata": {},
   "source": [
    "# Scikit-learn Deployment"
   ]
  },
  {
   "cell_type": "code",
   "execution_count": 1,
   "id": "3c7f7be5",
   "metadata": {
    "scrolled": true
   },
   "outputs": [
    {
     "name": "stdout",
     "output_type": "stream",
     "text": [
      "Requirement already satisfied: skl2onnx in /opt/anaconda3/lib/python3.8/site-packages (1.9.3.dev0)\n",
      "Requirement already satisfied: onnxmltools in /opt/anaconda3/lib/python3.8/site-packages (1.9.1)\n",
      "Requirement already satisfied: onnxruntime in /opt/anaconda3/lib/python3.8/site-packages (1.8.1)\n",
      "Requirement already satisfied: onnxoptimizer in /opt/anaconda3/lib/python3.8/site-packages (0.2.6)\n",
      "Requirement already satisfied: numpy in /opt/anaconda3/lib/python3.8/site-packages (from onnxmltools) (1.20.1)\n",
      "Requirement already satisfied: onnx in /opt/anaconda3/lib/python3.8/site-packages (from onnxmltools) (1.10.1)\n",
      "Requirement already satisfied: flatbuffers in /opt/anaconda3/lib/python3.8/site-packages (from onnxruntime) (2.0)\n",
      "Requirement already satisfied: protobuf in /opt/anaconda3/lib/python3.8/site-packages (from onnxruntime) (3.18.0)\n",
      "Requirement already satisfied: onnxconverter-common>=1.6.1 in /opt/anaconda3/lib/python3.8/site-packages (from skl2onnx) (1.8.1)\n",
      "Requirement already satisfied: scipy>=1.0 in /opt/anaconda3/lib/python3.8/site-packages (from skl2onnx) (1.6.2)\n",
      "Requirement already satisfied: scikit-learn>=0.19 in /opt/anaconda3/lib/python3.8/site-packages (from skl2onnx) (0.24.1)\n",
      "Requirement already satisfied: six in /opt/anaconda3/lib/python3.8/site-packages (from onnx->onnxmltools) (1.15.0)\n",
      "Requirement already satisfied: typing-extensions>=3.6.2.1 in /opt/anaconda3/lib/python3.8/site-packages (from onnx->onnxmltools) (3.7.4.3)\n",
      "Requirement already satisfied: threadpoolctl>=2.0.0 in /opt/anaconda3/lib/python3.8/site-packages (from scikit-learn>=0.19->skl2onnx) (2.1.0)\n",
      "Requirement already satisfied: joblib>=0.11 in /opt/anaconda3/lib/python3.8/site-packages (from scikit-learn>=0.19->skl2onnx) (1.0.1)\n"
     ]
    }
   ],
   "source": [
    "!pip install skl2onnx onnxmltools onnxruntime onnxoptimizer"
   ]
  },
  {
   "cell_type": "code",
   "execution_count": 2,
   "id": "c698cf3e",
   "metadata": {},
   "outputs": [],
   "source": [
    "from IPython import display\n",
    "import numpy as np\n",
    "import pandas as pd\n",
    "from sklearn import datasets\n",
    "from sklearn.model_selection import train_test_split\n",
    "from sklearn.linear_model import LinearRegression, LogisticRegression\n",
    "from sklearn.svm import SVC\n",
    "import matplotlib.pyplot as plt"
   ]
  },
  {
   "cell_type": "code",
   "execution_count": 3,
   "id": "a70a17ef",
   "metadata": {
    "scrolled": true
   },
   "outputs": [
    {
     "data": {
      "text/html": [
       "<div>\n",
       "<style scoped>\n",
       "    .dataframe tbody tr th:only-of-type {\n",
       "        vertical-align: middle;\n",
       "    }\n",
       "\n",
       "    .dataframe tbody tr th {\n",
       "        vertical-align: top;\n",
       "    }\n",
       "\n",
       "    .dataframe thead th {\n",
       "        text-align: right;\n",
       "    }\n",
       "</style>\n",
       "<table border=\"1\" class=\"dataframe\">\n",
       "  <thead>\n",
       "    <tr style=\"text-align: right;\">\n",
       "      <th></th>\n",
       "      <th>sepal length (cm)</th>\n",
       "      <th>sepal width (cm)</th>\n",
       "      <th>petal length (cm)</th>\n",
       "      <th>petal width (cm)</th>\n",
       "      <th>target</th>\n",
       "    </tr>\n",
       "  </thead>\n",
       "  <tbody>\n",
       "    <tr>\n",
       "      <th>0</th>\n",
       "      <td>5.1</td>\n",
       "      <td>3.5</td>\n",
       "      <td>1.4</td>\n",
       "      <td>0.2</td>\n",
       "      <td>0.0</td>\n",
       "    </tr>\n",
       "    <tr>\n",
       "      <th>1</th>\n",
       "      <td>4.9</td>\n",
       "      <td>3.0</td>\n",
       "      <td>1.4</td>\n",
       "      <td>0.2</td>\n",
       "      <td>0.0</td>\n",
       "    </tr>\n",
       "    <tr>\n",
       "      <th>2</th>\n",
       "      <td>4.7</td>\n",
       "      <td>3.2</td>\n",
       "      <td>1.3</td>\n",
       "      <td>0.2</td>\n",
       "      <td>0.0</td>\n",
       "    </tr>\n",
       "    <tr>\n",
       "      <th>3</th>\n",
       "      <td>4.6</td>\n",
       "      <td>3.1</td>\n",
       "      <td>1.5</td>\n",
       "      <td>0.2</td>\n",
       "      <td>0.0</td>\n",
       "    </tr>\n",
       "    <tr>\n",
       "      <th>4</th>\n",
       "      <td>5.0</td>\n",
       "      <td>3.6</td>\n",
       "      <td>1.4</td>\n",
       "      <td>0.2</td>\n",
       "      <td>0.0</td>\n",
       "    </tr>\n",
       "  </tbody>\n",
       "</table>\n",
       "</div>"
      ],
      "text/plain": [
       "   sepal length (cm)  sepal width (cm)  petal length (cm)  petal width (cm)  \\\n",
       "0                5.1               3.5                1.4               0.2   \n",
       "1                4.9               3.0                1.4               0.2   \n",
       "2                4.7               3.2                1.3               0.2   \n",
       "3                4.6               3.1                1.5               0.2   \n",
       "4                5.0               3.6                1.4               0.2   \n",
       "\n",
       "   target  \n",
       "0     0.0  \n",
       "1     0.0  \n",
       "2     0.0  \n",
       "3     0.0  \n",
       "4     0.0  "
      ]
     },
     "execution_count": 3,
     "metadata": {},
     "output_type": "execute_result"
    }
   ],
   "source": [
    "iris = datasets.load_iris() # Setosa, Versicolour, and Virginica\n",
    "df = pd.DataFrame(data= np.c_[iris['data'], iris['target']],\n",
    "                     columns= iris['feature_names'] + ['target'])\n",
    "\n",
    "df.head()"
   ]
  },
  {
   "cell_type": "code",
   "execution_count": 4,
   "id": "f6e54970",
   "metadata": {},
   "outputs": [
    {
     "data": {
      "text/plain": [
       "0.0    50\n",
       "2.0    50\n",
       "1.0    50\n",
       "Name: target, dtype: int64"
      ]
     },
     "execution_count": 4,
     "metadata": {},
     "output_type": "execute_result"
    }
   ],
   "source": [
    "df[\"target\"].value_counts()"
   ]
  },
  {
   "cell_type": "code",
   "execution_count": 5,
   "id": "850899b3",
   "metadata": {},
   "outputs": [
    {
     "data": {
      "image/jpeg": "[encoded data removed]",
      "text/plain": [
       "<IPython.core.display.Image object>"
      ]
     },
     "execution_count": 5,
     "metadata": {},
     "output_type": "execute_result"
    }
   ],
   "source": [
    "display.Image(\"./misc/iris.jpeg\")"
   ]
  },
  {
   "cell_type": "code",
   "execution_count": 6,
   "id": "100fe653",
   "metadata": {},
   "outputs": [
    {
     "data": {
      "image/png": "[encoded data removed]",
      "text/plain": [
       "<Figure size 432x288 with 1 Axes>"
      ]
     },
     "metadata": {
      "needs_background": "light"
     },
     "output_type": "display_data"
    }
   ],
   "source": [
    "import matplotlib.cm\n",
    "cmap = matplotlib.cm.get_cmap('Set1')\n",
    "fig = df.plot.scatter(x=\"sepal length (cm)\", y=\"sepal width (cm)\", c=\"target\", cmap=cmap, colorbar=False)\n",
    "plt.show()"
   ]
  },
  {
   "cell_type": "markdown",
   "id": "fa8635ed",
   "metadata": {},
   "source": [
    "# Model"
   ]
  },
  {
   "cell_type": "code",
   "execution_count": 7,
   "id": "70abb8a3",
   "metadata": {},
   "outputs": [],
   "source": [
    "X_train, X_test, y_train, y_test = train_test_split(df.iloc[:,:4], df.iloc[:,-1], test_size=0.3, random_state=142)"
   ]
  },
  {
   "cell_type": "code",
   "execution_count": 8,
   "id": "d37bf224",
   "metadata": {
    "scrolled": true
   },
   "outputs": [
    {
     "name": "stdout",
     "output_type": "stream",
     "text": [
      "Train score: 0.9904761904761905\n",
      "Test score:  0.9333333333333333\n"
     ]
    }
   ],
   "source": [
    "model = LogisticRegression()\n",
    "model.fit(X_train, y_train)\n",
    "print(f\"Train score: {model.score(X_train, y_train)}\")\n",
    "print(f\"Test score:  {model.score(X_test, y_test)}\")"
   ]
  },
  {
   "cell_type": "code",
   "execution_count": 9,
   "id": "106399bb",
   "metadata": {},
   "outputs": [
    {
     "data": {
      "text/plain": [
       "array([[0.24249382, 0.08344511, 0.67406108]])"
      ]
     },
     "execution_count": 9,
     "metadata": {},
     "output_type": "execute_result"
    }
   ],
   "source": [
    "model.predict_proba(np.array([[1, 2, 3, 4]]))"
   ]
  },
  {
   "cell_type": "markdown",
   "id": "3eb75846",
   "metadata": {},
   "source": [
    "# Model Deployment"
   ]
  },
  {
   "cell_type": "markdown",
   "id": "2ef5286c",
   "metadata": {},
   "source": [
    "The pickle API for serializing standard Python objects.\n",
    "The joblib API for efficiently serializing Python objects with NumPy arrays."
   ]
  },
  {
   "cell_type": "markdown",
   "id": "2862ebcb",
   "metadata": {},
   "source": [
    "## Pickle"
   ]
  },
  {
   "cell_type": "code",
   "execution_count": 10,
   "id": "700cff31",
   "metadata": {},
   "outputs": [],
   "source": [
    "import pickle\n",
    "\n",
    "filename = './save/model.pkl'\n",
    "pickle.dump(model, open(filename, 'wb'))"
   ]
  },
  {
   "cell_type": "code",
   "execution_count": 11,
   "id": "dac77c0f",
   "metadata": {},
   "outputs": [
    {
     "name": "stdout",
     "output_type": "stream",
     "text": [
      "[[7.27380947e-06 1.74212245e-05 9.99975305e-01]]\n"
     ]
    }
   ],
   "source": [
    "loaded_model = pickle.load(open(filename, 'rb'))\n",
    "result = loaded_model.predict_proba(np.array([[5.5, 2.6, 2.7, 7.8]]))\n",
    "print(result)"
   ]
  },
  {
   "cell_type": "markdown",
   "id": "3287bb96",
   "metadata": {},
   "source": [
    "## Joblib"
   ]
  },
  {
   "cell_type": "code",
   "execution_count": 12,
   "id": "81ff5a6a",
   "metadata": {},
   "outputs": [
    {
     "data": {
      "text/plain": [
       "['./save/model.joblib']"
      ]
     },
     "execution_count": 12,
     "metadata": {},
     "output_type": "execute_result"
    }
   ],
   "source": [
    "import joblib\n",
    "\n",
    "filename = './save/model.joblib'\n",
    "joblib.dump(model, filename)"
   ]
  },
  {
   "cell_type": "code",
   "execution_count": 13,
   "id": "5742ae05",
   "metadata": {},
   "outputs": [
    {
     "name": "stdout",
     "output_type": "stream",
     "text": [
      "[[9.95228088e-01 4.77185714e-03 5.48725454e-08]]\n"
     ]
    }
   ],
   "source": [
    "loaded_model = joblib.load(filename)\n",
    "result = loaded_model.predict_proba(np.array([[0.5, 0.6, 0.7, 0.8]]))\n",
    "print(result)"
   ]
  },
  {
   "cell_type": "markdown",
   "id": "5798d13c",
   "metadata": {},
   "source": [
    "# ONNX"
   ]
  },
  {
   "cell_type": "code",
   "execution_count": 14,
   "id": "5b46e63f",
   "metadata": {},
   "outputs": [],
   "source": [
    "import onnxmltools\n",
    "from skl2onnx.common.data_types import FloatTensorType\n",
    "\n",
    "filename = './save/model.onnx'\n",
    "initial_types = [('input', FloatTensorType([1, 4]))]\n",
    "onnx_model = onnxmltools.convert_sklearn(model, 'Iris Model', initial_types=initial_types)\n",
    "\n",
    "with open(filename, \"wb\") as f:\n",
    "    f.write(onnx_model.SerializeToString())"
   ]
  },
  {
   "cell_type": "code",
   "execution_count": 15,
   "id": "f136ebee",
   "metadata": {
    "scrolled": true
   },
   "outputs": [
    {
     "name": "stdout",
     "output_type": "stream",
     "text": [
      "['input']\n",
      "['output_label', 'output_probability']\n"
     ]
    },
    {
     "data": {
      "text/plain": [
       "[array([0], dtype=int64),\n",
       " [{0: 0.9952281713485718, 1: 0.004771856125444174, 2: 5.487248699864722e-08}]]"
      ]
     },
     "execution_count": 15,
     "metadata": {},
     "output_type": "execute_result"
    }
   ],
   "source": [
    "import onnxruntime as rt\n",
    "\n",
    "sess = rt.InferenceSession(filename)\n",
    "print(list(map(lambda x: x.name, sess.get_inputs())))\n",
    "print(list(map(lambda x: x.name, sess.get_outputs())))\n",
    "\n",
    "inputs = sess.get_inputs()\n",
    "outputs = sess.get_outputs()\n",
    "input_name = inputs[0].name\n",
    "input_data = {input_name: np.array([[0.5, 0.6, 0.7, 0.8]]).astype(np.float32)}\n",
    "\n",
    "pred_onx = sess.run([], input_data)\n",
    "pred_onx"
   ]
  },
  {
   "cell_type": "markdown",
   "id": "a07964ec",
   "metadata": {},
   "source": [
    "# ONNX LinearRegression"
   ]
  },
  {
   "cell_type": "code",
   "execution_count": 19,
   "id": "15325eeb",
   "metadata": {},
   "outputs": [],
   "source": [
    "model = LinearRegression()\n",
    "model.fit(X_train, y_train)\n",
    "\n",
    "filename = './save/model_linear.onnx'\n",
    "initial_types = [('input', FloatTensorType([1, 4]))]\n",
    "onnx_model = onnxmltools.convert_sklearn(model, 'Iris Model', initial_types=initial_types)\n",
    "\n",
    "with open(filename, \"wb\") as f:\n",
    "    f.write(onnx_model.SerializeToString())"
   ]
  }
 ],
 "metadata": {
  "kernelspec": {
   "display_name": "Python 3",
   "language": "python",
   "name": "python3"
  },
  "language_info": {
   "codemirror_mode": {
    "name": "ipython",
    "version": 3
   },
   "file_extension": ".py",
   "mimetype": "text/x-python",
   "name": "python",
   "nbconvert_exporter": "python",
   "pygments_lexer": "ipython3",
   "version": "3.8.8"
  }
 },
 "nbformat": 4,
 "nbformat_minor": 5
}
